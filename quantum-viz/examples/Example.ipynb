{
 "cells": [
  {
   "cell_type": "code",
   "execution_count": 2,
   "id": "4f2b95b2",
   "metadata": {},
   "outputs": [],
   "source": [
    "from quantum_viz import QuantumVizWidget"
   ]
  },
  {
   "cell_type": "code",
   "execution_count": 6,
   "id": "855531c9",
   "metadata": {},
   "outputs": [],
   "source": [
    "program = {\n",
    "    \"qubits\": [{ \"id\": 0 }, { \"id\": 1, \"numChildren\": 1 }],\n",
    "    \"operations\": [\n",
    "        {\n",
    "            \"gate\": 'H',\n",
    "            \"targets\": [{ \"qId\": 0 }],\n",
    "        },\n",
    "        {\n",
    "            \"gate\": 'X',\n",
    "            \"isControlled\": \"True\",\n",
    "            \"controls\": [{ \"qId\": 0 }],\n",
    "            \"targets\": [{ \"qId\": 1 }],\n",
    "        },\n",
    "        {\n",
    "            \"gate\": 'Measure',\n",
    "            \"isMeasurement\": \"True\",\n",
    "            \"controls\": [{ \"qId\": 1 }],\n",
    "            \"targets\": [{ \"type\": 1, \"qId\": 1, \"cId\": 0 }],\n",
    "        },\n",
    "    ],\n",
    "}"
   ]
  },
  {
   "cell_type": "code",
   "execution_count": 7,
   "id": "18c678ae",
   "metadata": {},
   "outputs": [],
   "source": [
    "test = QuantumVizWidget(program)"
   ]
  },
  {
   "cell_type": "code",
   "execution_count": 8,
   "id": "5d2202b6",
   "metadata": {},
   "outputs": [
    {
     "data": {
      "text/html": [
       "\n",
       "<script type=\"text/javascript\">\n",
       "require.config({\n",
       "    paths: {\n",
       "        qviz: 'https://unpkg.com/@microsoft/quantum-viz.js@1.0.2/dist/qviz.min'\n",
       "    }\n",
       "});\n",
       "require(['qviz'], function(qviz) {\n",
       "    function renderQuantumProgram(program) {\n",
       "        const targetDiv = document.getElementById('JSApp_95e37ddc2bae11eca4b900155dd132ce');\n",
       "        if (targetDiv != null) {\n",
       "            qviz.draw(program, targetDiv, qviz.STYLES['Default']);\n",
       "        }\n",
       "    }\n",
       "    const data = {'qubits': [{'id': 0}, {'id': 1, 'numChildren': 1}], 'operations': [{'gate': 'H', 'targets': [{'qId': 0}]}, {'gate': 'X', 'isControlled': 'True', 'controls': [{'qId': 0}], 'targets': [{'qId': 1}]}, {'gate': 'Measure', 'isMeasurement': 'True', 'controls': [{'qId': 1}], 'targets': [{'type': 1, 'qId': 1, 'cId': 0}]}]};\n",
       "    renderQuantumProgram(data);\n",
       "});\n",
       "</script>\n",
       "<div id=\"JSApp_95e37ddc2bae11eca4b900155dd132ce\"></div>\n",
       "<div id=\"msg\"></div>\n"
      ],
      "text/plain": [
       "<IPython.core.display.HTML object>"
      ]
     },
     "metadata": {},
     "output_type": "display_data"
    }
   ],
   "source": [
    "test"
   ]
  },
  {
   "cell_type": "code",
   "execution_count": null,
   "id": "83e909ad",
   "metadata": {},
   "outputs": [],
   "source": []
  }
 ],
 "metadata": {
  "kernelspec": {
   "display_name": "Python 3 (ipykernel)",
   "language": "python",
   "name": "python3"
  },
  "language_info": {
   "codemirror_mode": {
    "name": "ipython",
    "version": 3
   },
   "file_extension": ".py",
   "mimetype": "text/x-python",
   "name": "python",
   "nbconvert_exporter": "python",
   "pygments_lexer": "ipython3",
   "version": "3.9.7"
  }
 },
 "nbformat": 4,
 "nbformat_minor": 5
}
